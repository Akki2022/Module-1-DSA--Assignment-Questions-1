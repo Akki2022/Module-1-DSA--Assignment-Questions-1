{
  "nbformat": 4,
  "nbformat_minor": 0,
  "metadata": {
    "colab": {
      "provenance": []
    },
    "kernelspec": {
      "name": "python3",
      "display_name": "Python 3"
    },
    "language_info": {
      "name": "python"
    }
  },
  "cells": [
    {
      "cell_type": "code",
      "source": [],
      "metadata": {
        "id": "3jfA1U8DCXfZ"
      },
      "execution_count": null,
      "outputs": []
    },
    {
      "cell_type": "markdown",
      "source": [
        "# QUESTION 1\n",
        "<aside>\n",
        "💡 **Q1.** Given an array of integers nums and an integer target, return indices of the two numbers such that they add up to target.\n",
        "\n",
        "You may assume that each input would have exactly one solution, and you may not use the same element twice.\n",
        "\n",
        "You can return the answer in any order.\n",
        "\n",
        "**Example:**\n",
        "Input: nums = [2,7,11,15], target = 9\n",
        "Output0 [0,1]\n",
        "\n",
        "**Explanation:** Because nums[0] + nums[1] == 9, we return [0, 1][\n",
        "\n",
        "</aside>"
      ],
      "metadata": {
        "id": "IpFQjaZ6CX8V"
      }
    },
    {
      "cell_type": "code",
      "execution_count": 1,
      "metadata": {
        "id": "zu4K4UwDB9oj"
      },
      "outputs": [],
      "source": [
        "def twoSum(nums, target):\n",
        "    num_dict = {}\n",
        "    for i, num in enumerate(nums):\n",
        "        complement = target - num\n",
        "        if complement in num_dict:\n",
        "            return [num_dict[complement], i]\n",
        "        num_dict[num] = i\n",
        "    return []\n",
        "\n",
        "\n"
      ]
    },
    {
      "cell_type": "code",
      "source": [
        "# Test \n",
        "nums = [2, 7, 11, 15]\n",
        "target = 9\n",
        "result = twoSum(nums, target)\n",
        "print(result)"
      ],
      "metadata": {
        "colab": {
          "base_uri": "https://localhost:8080/"
        },
        "id": "lecPCgIBCAPP",
        "outputId": "07276cb2-ddb8-4237-fd58-48c1ef53936e"
      },
      "execution_count": 2,
      "outputs": [
        {
          "output_type": "stream",
          "name": "stdout",
          "text": [
            "[0, 1]\n"
          ]
        }
      ]
    },
    {
      "cell_type": "markdown",
      "source": [
        "#QUESTION 2\n",
        "<aside>\n",
        "💡 **Q2.** Given an integer array nums and an integer val, remove all occurrences of val in nums in-place. The order of the elements may be changed. Then return the number of elements in nums which are not equal to val.\n",
        "\n",
        "Consider the number of elements in nums which are not equal to val be k, to get accepted, you need to do the following things:\n",
        "\n",
        "- Change the array nums such that the first k elements of nums contain the elements which are not equal to val. The remaining elements of nums are not important as well as the size of nums.\n",
        "- Return k.\n",
        "\n",
        "**Example :**\n",
        "Input: nums = [3,2,2,3], val = 3\n",
        "Output: 2, nums = [2,2,_*,_*]\n",
        "\n",
        "**Explanation:** Your function should return k = 2, with the first two elements of nums being 2. It does not matter what you leave beyond the returned k (hence they are underscores)[\n",
        "\n",
        "</aside>"
      ],
      "metadata": {
        "id": "3ZStlcT6CeFw"
      }
    },
    {
      "cell_type": "code",
      "source": [
        "def removeElement(nums, val):\n",
        "    i = 0\n",
        "    j = 0\n",
        "    while i < len(nums):\n",
        "        if nums[i] != val:\n",
        "            nums[j] = nums[i]\n",
        "            j += 1\n",
        "        i += 1\n",
        "    return j\n",
        "\n",
        "# Test\n",
        "nums = [3, 2, 2, 3]\n",
        "val = 3\n",
        "result = removeElement(nums, val)\n",
        "print(result)\n",
        "print(nums[:result])\n"
      ],
      "metadata": {
        "colab": {
          "base_uri": "https://localhost:8080/"
        },
        "id": "wHVmJcBNCfOp",
        "outputId": "a75eb731-a8fb-4741-b63b-4cb02f2d45ab"
      },
      "execution_count": 3,
      "outputs": [
        {
          "output_type": "stream",
          "name": "stdout",
          "text": [
            "2\n",
            "[2, 2]\n"
          ]
        }
      ]
    },
    {
      "cell_type": "markdown",
      "source": [
        "#Question 3\n",
        "<aside>\n",
        "💡 **Q3.** Given a sorted array of distinct integers and a target value, return the index if the target is found. If not, return the index where it would be if it were inserted in order.\n",
        "\n",
        "You must write an algorithm with O(log n) runtime complexity.\n",
        "\n",
        "**Example 1:**\n",
        "Input: nums = [1,3,5,6], target = 5\n",
        "\n",
        "Output: 2\n",
        "\n",
        "</aside>"
      ],
      "metadata": {
        "id": "A44FRYrjDGcR"
      }
    },
    {
      "cell_type": "code",
      "source": [
        "def searchInsert(nums, target):\n",
        "    left = 0\n",
        "    right = len(nums) - 1\n",
        "\n",
        "    while left <= right:\n",
        "        mid = left + (right - left) // 2\n",
        "        if nums[mid] == target:\n",
        "            return mid\n",
        "        elif nums[mid] < target:\n",
        "            left = mid + 1\n",
        "        else:\n",
        "            right = mid - 1\n",
        "\n",
        "    return left\n",
        "\n",
        "\n",
        "nums = [1, 3, 5, 6]\n",
        "target = 5\n",
        "result = searchInsert(nums, target)\n",
        "print(result)\n"
      ],
      "metadata": {
        "colab": {
          "base_uri": "https://localhost:8080/"
        },
        "id": "oTrg6D_hCo3m",
        "outputId": "7d7d565e-6089-4999-aab6-e4df0c51a56f"
      },
      "execution_count": 5,
      "outputs": [
        {
          "output_type": "stream",
          "name": "stdout",
          "text": [
            "2\n"
          ]
        }
      ]
    },
    {
      "cell_type": "code",
      "source": [],
      "metadata": {
        "id": "PLVzoMhaDSu5"
      },
      "execution_count": null,
      "outputs": []
    },
    {
      "cell_type": "markdown",
      "source": [
        "#Question 4\n"
      ],
      "metadata": {
        "id": "_vc1Jge1DTHv"
      }
    },
    {
      "cell_type": "code",
      "source": [
        "def plusOne(digits):\n",
        "    carry = 1\n",
        "\n",
        "    for i in range(len(digits) - 1, -1, -1):\n",
        "        digits[i] += carry\n",
        "        carry = digits[i] // 10\n",
        "        digits[i] %= 10\n",
        "        if carry == 0:\n",
        "            break\n",
        "\n",
        "    if carry == 1:\n",
        "        digits.insert(0, 1)\n",
        "\n",
        "    return digits\n"
      ],
      "metadata": {
        "id": "kQ9ZEMtsDVVP"
      },
      "execution_count": 4,
      "outputs": []
    },
    {
      "cell_type": "markdown",
      "source": [
        "#Question 5\n"
      ],
      "metadata": {
        "id": "SkLU1zx4DZrU"
      }
    },
    {
      "cell_type": "code",
      "source": [
        "def merge(nums1, m, nums2, n):\n",
        "    i = m - 1\n",
        "    j = n - 1\n",
        "    k = m + n - 1\n",
        "\n",
        "    while i >= 0 and j >= 0:\n",
        "        if nums1[i] >= nums2[j]:\n",
        "            nums1[k] = nums1[i]\n",
        "            i -= 1\n",
        "        else:\n",
        "            nums1[k] = nums2[j]\n",
        "            j -= 1\n",
        "        k -= 1\n",
        "\n",
        "    # If there are remaining elements in nums2\n",
        "    while j >= 0:\n",
        "        nums1[k] = nums2[j]\n",
        "        j -= 1\n",
        "        k -= 1\n",
        "\n",
        "\n"
      ],
      "metadata": {
        "id": "Lj16r4-oDV5M"
      },
      "execution_count": 12,
      "outputs": []
    },
    {
      "cell_type": "code",
      "source": [
        "\n",
        "nums1 = [1, 2, 3, 0, 0, 0]\n",
        "m = 3\n",
        "nums2 = [2, 5, 6]\n",
        "n = 3\n",
        "merge(nums1, m, nums2, n)\n",
        "print(nums1)"
      ],
      "metadata": {
        "colab": {
          "base_uri": "https://localhost:8080/"
        },
        "id": "R8whwQ3CEV8m",
        "outputId": "53cd8737-4d1b-4ef1-ab2c-e9a3792d9441"
      },
      "execution_count": 13,
      "outputs": [
        {
          "output_type": "stream",
          "name": "stdout",
          "text": [
            "[1, 2, 2, 3, 5, 6]\n"
          ]
        }
      ]
    },
    {
      "cell_type": "markdown",
      "source": [
        "#Question 6"
      ],
      "metadata": {
        "id": "WwYigWLQDlSD"
      }
    },
    {
      "cell_type": "code",
      "source": [
        "def containsDuplicate(nums):\n",
        "    num_set = set()\n",
        "\n",
        "    for num in nums:\n",
        "        if num in num_set:\n",
        "            return True\n",
        "        num_set.add(num)"
      ],
      "metadata": {
        "id": "7AD3MDdaDmWd"
      },
      "execution_count": 6,
      "outputs": []
    },
    {
      "cell_type": "markdown",
      "source": [
        "#Question 7"
      ],
      "metadata": {
        "id": "tBQtM_E6DsT1"
      }
    },
    {
      "cell_type": "code",
      "source": [
        "def moveZeroes(nums):\n",
        "    j = 0\n",
        "    for i in range(len(nums)):\n",
        "        if nums[i] != 0:\n",
        "            nums[j] = nums[i]\n",
        "            j += 1\n",
        "\n",
        "    for i in range(j, len(nums)):\n",
        "        nums[i] = 0\n",
        "\n",
        "\n",
        "nums = [0, 1, 0, 3, 12]\n",
        "moveZeroes(nums)\n",
        "print(nums)\n"
      ],
      "metadata": {
        "colab": {
          "base_uri": "https://localhost:8080/"
        },
        "id": "J9KoX1CYDqWK",
        "outputId": "6724f125-df09-446d-d1c5-1cccc8b542ef"
      },
      "execution_count": 8,
      "outputs": [
        {
          "output_type": "stream",
          "name": "stdout",
          "text": [
            "[1, 3, 12, 0, 0]\n"
          ]
        }
      ]
    },
    {
      "cell_type": "markdown",
      "source": [
        "#Question 8"
      ],
      "metadata": {
        "id": "lbSvKlz1D_JK"
      }
    },
    {
      "cell_type": "code",
      "source": [
        "def findErrorNums(nums):\n",
        "    num_count = {}\n",
        "    duplicate = -1\n",
        "    total_sum = sum(range(1, len(nums) + 1))\n",
        "\n",
        "    for num in nums:\n",
        "        if num in num_count:\n",
        "            duplicate = num\n",
        "        else:\n",
        "            num_count[num] = 1\n",
        "\n",
        "        total_sum -= num\n",
        "\n",
        "    missing = total_sum + duplicate\n",
        "\n",
        "    return [duplicate, missing]\n",
        "\n",
        "\n"
      ],
      "metadata": {
        "id": "p3wBTGW3D94I"
      },
      "execution_count": 9,
      "outputs": []
    },
    {
      "cell_type": "code",
      "source": [
        "\n",
        "nums = [1, 2, 2, 4]\n",
        "result = findErrorNums(nums)\n",
        "print(result)"
      ],
      "metadata": {
        "colab": {
          "base_uri": "https://localhost:8080/"
        },
        "id": "DhD7x4a2EH0E",
        "outputId": "70833021-3c0d-4001-abe5-69f22c3d149a"
      },
      "execution_count": 11,
      "outputs": [
        {
          "output_type": "stream",
          "name": "stdout",
          "text": [
            "[2, 3]\n"
          ]
        }
      ]
    },
    {
      "cell_type": "code",
      "source": [],
      "metadata": {
        "id": "3QdSn96aEISO"
      },
      "execution_count": null,
      "outputs": []
    }
  ]
}